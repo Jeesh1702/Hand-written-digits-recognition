{
 "cells": [
  {
   "attachments": {},
   "cell_type": "markdown",
   "metadata": {},
   "source": [
    "## Hand written Digit Recognition using `Tensorflow` and `Keras`\n",
    "### Importing Libraries\n"
   ]
  },
  {
   "cell_type": "code",
   "execution_count": 89,
   "metadata": {},
   "outputs": [],
   "source": [
    "import tensorflow as tf\n",
    "import numpy as np\n",
    "import math\n",
    "import cv2\n",
    "import matplotlib.pyplot as plt"
   ]
  },
  {
   "attachments": {},
   "cell_type": "markdown",
   "metadata": {},
   "source": [
    "## Dataset\n",
    "Here we use MNIST dataset which consists of 70000 samples of hand written digits which we will use to train and evaluate our model. Each sample in the dataset contains a 28x28 pixel image and the correseponding integer associated with image."
   ]
  },
  {
   "cell_type": "code",
   "execution_count": 158,
   "metadata": {},
   "outputs": [],
   "source": [
    "data = tf.keras.datasets.mnist"
   ]
  },
  {
   "attachments": {},
   "cell_type": "markdown",
   "metadata": {},
   "source": [
    "### Load the data\n",
    "We will split the dataset into test data and train data where train data will contain 60000 samples and test will contain the remaining 10000 samples. We split the test and train datas into two parts, one contains the matrix of pixels of each image and the other has the corresponding integer of the image."
   ]
  },
  {
   "cell_type": "code",
   "execution_count": 162,
   "metadata": {},
   "outputs": [
    {
     "name": "stdout",
     "output_type": "stream",
     "text": [
      "Number of train samples = 60000\n",
      "Number of test samples = 10000\n"
     ]
    }
   ],
   "source": [
    "train ,test = data.load_data()\n",
    "(x_train,y_train) = train\n",
    "(x_test,y_test) = test\n",
    "print(\"Number of train samples = {}\".format(x_train.shape[0]))\n",
    "print(\"Number of test samples = {}\".format(x_test.shape[0]))\n"
   ]
  },
  {
   "attachments": {},
   "cell_type": "markdown",
   "metadata": {},
   "source": [
    "### Prepare the data\n",
    "We then normalize the data using built in normalize function provided by keras. This helps to improve the models performance and stability while training."
   ]
  },
  {
   "cell_type": "code",
   "execution_count": 163,
   "metadata": {},
   "outputs": [],
   "source": [
    "x_train = tf.keras.utils.normalize(x_train,axis=1)\n",
    "x_test = tf.keras.utils.normalize(x_test,axis=1)"
   ]
  },
  {
   "attachments": {},
   "cell_type": "markdown",
   "metadata": {},
   "source": [
    "## Neural Network Model\n",
    "### Define the model\n",
    "Here we are using Sequential model with the following layers:<br><ul>\n",
    "    <li>``Layer`` (input layer)</li>\n",
    "    <li>``Dense`` Layer with 128 neurons and relu activation</li>\n",
    "    <li>``Dense`` Layer with 128 neurons and relu activation</li>\n",
    "    <li>``Dense`` Layer with 10 neurons and softmax activation (output layer)</li></ul>\n",
    "The output layer has 10 outputs and each output corresponds to the probability of the image being the number that corresponds to the index."
   ]
  },
  {
   "cell_type": "code",
   "execution_count": 165,
   "metadata": {},
   "outputs": [
    {
     "name": "stdout",
     "output_type": "stream",
     "text": [
      "Model: \"sequential_7\"\n",
      "_________________________________________________________________\n",
      " Layer (type)                Output Shape              Param #   \n",
      "=================================================================\n",
      " flatten_7 (Flatten)         (None, 784)               0         \n",
      "                                                                 \n",
      " dense_21 (Dense)            (None, 128)               100480    \n",
      "                                                                 \n",
      " dense_22 (Dense)            (None, 128)               16512     \n",
      "                                                                 \n",
      " dense_23 (Dense)            (None, 10)                1290      \n",
      "                                                                 \n",
      "=================================================================\n",
      "Total params: 118,282\n",
      "Trainable params: 118,282\n",
      "Non-trainable params: 0\n",
      "_________________________________________________________________\n"
     ]
    }
   ],
   "source": [
    "model = tf.keras.models.Sequential([\n",
    "    tf.keras.layers.Flatten(input_shape=(28,28)),\n",
    "    tf.keras.layers.Dense(128,activation=\"relu\"),\n",
    "    tf.keras.layers.Dense(128,activation=\"relu\"),\n",
    "    tf.keras.layers.Dense(10, activation='softmax')\n",
    "])\n",
    "model.summary()"
   ]
  },
  {
   "attachments": {},
   "cell_type": "markdown",
   "metadata": {},
   "source": [
    "### Compile the model\n",
    "We use built in compile function of keras to compile our model.<br>\n",
    "`adam` optimizer is used.<br>\n",
    "`sparse_categorical_crossentropy` is used as loss function to calcualte the losses.<br>\n",
    "`accuracy` is used as metrics."
   ]
  },
  {
   "cell_type": "code",
   "execution_count": null,
   "metadata": {},
   "outputs": [],
   "source": [
    "model.compile(optimizer='adam',loss=tf.losses.sparse_categorical_crossentropy,metrics=['accuracy'])"
   ]
  },
  {
   "attachments": {},
   "cell_type": "markdown",
   "metadata": {},
   "source": [
    "### Train the model\n",
    "We use built in ``.fit`` function to train our model with the test data. We pass the entire data set three times to train our model. This is done by setting the epochs parameter value to 3."
   ]
  },
  {
   "cell_type": "code",
   "execution_count": null,
   "metadata": {},
   "outputs": [],
   "source": [
    "model.fit(x_train,y_train,epochs=3)"
   ]
  },
  {
   "attachments": {},
   "cell_type": "markdown",
   "metadata": {},
   "source": [
    "### Save the model"
   ]
  },
  {
   "cell_type": "code",
   "execution_count": 166,
   "metadata": {},
   "outputs": [
    {
     "name": "stdout",
     "output_type": "stream",
     "text": [
      "WARNING:tensorflow:Compiled the loaded model, but the compiled metrics have yet to be built. `model.compile_metrics` will be empty until you train or evaluate the model.\n"
     ]
    },
    {
     "name": "stderr",
     "output_type": "stream",
     "text": [
      "WARNING:tensorflow:Compiled the loaded model, but the compiled metrics have yet to be built. `model.compile_metrics` will be empty until you train or evaluate the model.\n"
     ]
    },
    {
     "name": "stdout",
     "output_type": "stream",
     "text": [
      "INFO:tensorflow:Assets written to: hwdr.model\\assets\n"
     ]
    },
    {
     "name": "stderr",
     "output_type": "stream",
     "text": [
      "INFO:tensorflow:Assets written to: hwdr.model\\assets\n"
     ]
    },
    {
     "name": "stdout",
     "output_type": "stream",
     "text": [
      "Model saved successfully\n"
     ]
    }
   ],
   "source": [
    "model.save(\"hwdr.model\")\n",
    "print(\"Model saved successfully\")"
   ]
  },
  {
   "attachments": {},
   "cell_type": "markdown",
   "metadata": {},
   "source": [
    "### Load the model\n",
    "We try to load the existing model."
   ]
  },
  {
   "cell_type": "code",
   "execution_count": 90,
   "metadata": {},
   "outputs": [
    {
     "name": "stdout",
     "output_type": "stream",
     "text": [
      "Model loaded successfuly...\n"
     ]
    }
   ],
   "source": [
    "try:\n",
    "    model = tf.keras.models.load_model('hwdr.model')\n",
    "    print(\"Model loaded successfully...\")\n",
    "except:\n",
    "    print(\"Error in loading model, try again..\")"
   ]
  },
  {
   "attachments": {},
   "cell_type": "markdown",
   "metadata": {},
   "source": [
    "### Evaluate the model\n",
    "We then evaluate the model's performance by testing its performance against the test data. We measure the performance by checking the total loss and accuracy the model produces while running it with the test data."
   ]
  },
  {
   "cell_type": "code",
   "execution_count": 91,
   "metadata": {},
   "outputs": [
    {
     "name": "stdout",
     "output_type": "stream",
     "text": [
      "Loss = 0.09022942185401917\n",
      "Accuracy = 98%\n"
     ]
    }
   ],
   "source": [
    "res = model.evaluate(x_test,y_test,verbose=0)\n",
    "print(\"Loss = {}\".format(res[0]))\n",
    "print(\"Accuracy = {}%\".format(math.ceil(res[1]*100)))"
   ]
  },
  {
   "attachments": {},
   "cell_type": "markdown",
   "metadata": {},
   "source": [
    "### Prediction using model\n",
    "Provide the path of the image, that you want to predict using the trained model. The image provided can be of any dimensions as it is resized to the required dimension using `cv2.resize`. The given image is resized and is provided to the model for prediction and the number is predicted based on the higest probability of all the 10 outputs."
   ]
  },
  {
   "cell_type": "code",
   "execution_count": 173,
   "metadata": {},
   "outputs": [
    {
     "name": "stdout",
     "output_type": "stream",
     "text": [
      "Predicted number by the model is 1\n"
     ]
    },
    {
     "data": {
      "image/png": "[encoded data removed]",
      "text/plain": [
       "<Figure size 432x288 with 1 Axes>"
      ]
     },
     "metadata": {
      "needs_background": "light"
     },
     "output_type": "display_data"
    }
   ],
   "source": [
    "#Mention the path in image_path\n",
    "\n",
    "image_path = 'digits/1.png' \n",
    "\n",
    "\n",
    "img = cv2.imread(f\"{image_path}\")[:,:,1]\n",
    "img = cv2.resize(img,(28,28), interpolation=cv2.INTER_AREA)\n",
    "img = np.invert(np.array([img]))\n",
    "img = tf.keras.utils.normalize(img,axis=1)\n",
    "plt.imshow(img[0], cmap=plt.cm.binary)\n",
    "pred = model.predict(img,verbose=0)[0]\n",
    "print(\"Predicted number by the model is {}\".format(np.argmax(pred)))\n"
   ]
  }
 ],
 "metadata": {
  "kernelspec": {
   "display_name": "base",
   "language": "python",
   "name": "python3"
  },
  "language_info": {
   "codemirror_mode": {
    "name": "ipython",
    "version": 3
   },
   "file_extension": ".py",
   "mimetype": "text/x-python",
   "name": "python",
   "nbconvert_exporter": "python",
   "pygments_lexer": "ipython3",
   "version": "3.9.12"
  },
  "orig_nbformat": 4
 },
 "nbformat": 4,
 "nbformat_minor": 2
}
